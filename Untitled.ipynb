{
 "cells": [
  {
   "cell_type": "code",
   "execution_count": 10,
   "metadata": {},
   "outputs": [
    {
     "name": "stderr",
     "output_type": "stream",
     "text": [
      "2020-04-09 20:18:37,238 - pyswarms.single.global_best - INFO - Optimize for 1000 iters with {'c1': 0.5, 'c2': 0.3, 'w': 0.9}\n",
      "pyswarms.single.global_best: 100%|█████████████████████████████████████████████████████████|1000/1000, best_cost=0.0021\n",
      "2020-04-09 20:20:45,287 - pyswarms.single.global_best - INFO - Optimization finished | best cost: 0.002100072604018425, best pos: [5.2721e-01 3.6633e-01 3.0161e-01 1.6709e-01 4.4137e+02 5.3564e+02\n",
      " 6.3717e+02 4.8854e+02 2.6378e+01 5.8850e+01 3.8383e+01 8.8359e+01]\n"
     ]
    },
    {
     "name": "stdout",
     "output_type": "stream",
     "text": [
      "\n",
      "Results (optim,target):\n",
      "Yxy: ([200,0.33,0.33],[200,0.33,0.33])\n"
     ]
    },
    {
     "ename": "TypeError",
     "evalue": "unsupported format string passed to tuple.__format__",
     "output_type": "error",
     "traceback": [
      "\u001b[1;31m---------------------------------------------------------------------------\u001b[0m",
      "\u001b[1;31mTypeError\u001b[0m                                 Traceback (most recent call last)",
      "\u001b[1;32m<ipython-input-10-003e7c87c44c>\u001b[0m in \u001b[0;36m<module>\u001b[1;34m\u001b[0m\n\u001b[0;32m     44\u001b[0m \u001b[0mprint\u001b[0m\u001b[1;33m(\u001b[0m\u001b[1;34m'\\nResults (optim,target):'\u001b[0m\u001b[1;33m)\u001b[0m\u001b[1;33m\u001b[0m\u001b[1;33m\u001b[0m\u001b[0m\n\u001b[0;32m     45\u001b[0m \u001b[0mprint\u001b[0m\u001b[1;33m(\u001b[0m\u001b[1;34m\"Yxy: ([{:1.0f},{:1.2f},{:1.2f}],[{:1.0f},{:1.2f},{:1.2f}])\"\u001b[0m\u001b[1;33m.\u001b[0m\u001b[0mformat\u001b[0m\u001b[1;33m(\u001b[0m\u001b[0mYxy\u001b[0m\u001b[1;33m[\u001b[0m\u001b[1;36m0\u001b[0m\u001b[1;33m,\u001b[0m\u001b[1;36m0\u001b[0m\u001b[1;33m]\u001b[0m\u001b[1;33m,\u001b[0m\u001b[0mYxy\u001b[0m\u001b[1;33m[\u001b[0m\u001b[1;36m0\u001b[0m\u001b[1;33m,\u001b[0m\u001b[1;36m1\u001b[0m\u001b[1;33m]\u001b[0m\u001b[1;33m,\u001b[0m\u001b[0mYxy\u001b[0m\u001b[1;33m[\u001b[0m\u001b[1;36m0\u001b[0m\u001b[1;33m,\u001b[0m\u001b[1;36m2\u001b[0m\u001b[1;33m]\u001b[0m\u001b[1;33m,\u001b[0m\u001b[0mtarget\u001b[0m\u001b[1;33m[\u001b[0m\u001b[1;36m0\u001b[0m\u001b[1;33m,\u001b[0m\u001b[1;36m0\u001b[0m\u001b[1;33m]\u001b[0m\u001b[1;33m,\u001b[0m\u001b[0mtarget\u001b[0m\u001b[1;33m[\u001b[0m\u001b[1;36m0\u001b[0m\u001b[1;33m,\u001b[0m\u001b[1;36m1\u001b[0m\u001b[1;33m]\u001b[0m\u001b[1;33m,\u001b[0m\u001b[0mtarget\u001b[0m\u001b[1;33m[\u001b[0m\u001b[1;36m0\u001b[0m\u001b[1;33m,\u001b[0m\u001b[1;36m2\u001b[0m\u001b[1;33m]\u001b[0m\u001b[1;33m)\u001b[0m\u001b[1;33m)\u001b[0m\u001b[1;33m\u001b[0m\u001b[1;33m\u001b[0m\u001b[0m\n\u001b[1;32m---> 46\u001b[1;33m \u001b[0mprint\u001b[0m\u001b[1;33m(\u001b[0m\u001b[1;34m\"Rf: ({:1.2f},{:1.2f})\"\u001b[0m\u001b[1;33m.\u001b[0m\u001b[0mformat\u001b[0m\u001b[1;33m(\u001b[0m\u001b[0mRf\u001b[0m\u001b[1;33m,\u001b[0m \u001b[0mobj_tar_vals\u001b[0m\u001b[1;33m[\u001b[0m\u001b[1;36m0\u001b[0m\u001b[1;33m]\u001b[0m\u001b[1;33m)\u001b[0m\u001b[1;33m)\u001b[0m\u001b[1;33m\u001b[0m\u001b[1;33m\u001b[0m\u001b[0m\n\u001b[0m\u001b[0;32m     47\u001b[0m \u001b[0mprint\u001b[0m\u001b[1;33m(\u001b[0m\u001b[1;34m\"Rg: ({:1.2f}, {:1.2f})\"\u001b[0m\u001b[1;33m.\u001b[0m\u001b[0mformat\u001b[0m\u001b[1;33m(\u001b[0m\u001b[0mRg\u001b[0m\u001b[1;33m,\u001b[0m \u001b[0mobj_tar_vals\u001b[0m\u001b[1;33m[\u001b[0m\u001b[1;36m1\u001b[0m\u001b[1;33m]\u001b[0m\u001b[1;33m)\u001b[0m\u001b[1;33m)\u001b[0m\u001b[1;33m\u001b[0m\u001b[1;33m\u001b[0m\u001b[0m\n\u001b[0;32m     48\u001b[0m \u001b[0mprint\u001b[0m\u001b[1;33m(\u001b[0m\u001b[1;34m\"cct(K), duv: ({:1.1f},{:1.4f})\"\u001b[0m\u001b[1;33m.\u001b[0m\u001b[0mformat\u001b[0m\u001b[1;33m(\u001b[0m\u001b[0mcct\u001b[0m\u001b[1;33m[\u001b[0m\u001b[1;36m0\u001b[0m\u001b[1;33m,\u001b[0m\u001b[1;36m0\u001b[0m\u001b[1;33m]\u001b[0m\u001b[1;33m,\u001b[0m \u001b[0mduv\u001b[0m\u001b[1;33m[\u001b[0m\u001b[1;36m0\u001b[0m\u001b[1;33m,\u001b[0m\u001b[1;36m0\u001b[0m\u001b[1;33m]\u001b[0m\u001b[1;33m)\u001b[0m\u001b[1;33m)\u001b[0m\u001b[1;33m\u001b[0m\u001b[1;33m\u001b[0m\u001b[0m\n",
      "\u001b[1;31mTypeError\u001b[0m: unsupported format string passed to tuple.__format__"
     ]
    }
   ],
   "source": [
    "import luxpy as lx # package for color science calculations \n",
    "import matplotlib.pyplot as plt # package for plotting\n",
    "import numpy as np # fundamental package for scientific computing \n",
    "import timeit # package for timing functions\n",
    " \n",
    "%matplotlib inline \n",
    "\n",
    "\n",
    "import luxpy.toolboxes.spdbuild as spb \n",
    "\n",
    "# Set CIE CMF set, number of primaries n and target chromaticity:\n",
    "cieobs = '1964_10'\n",
    "n = 4\n",
    "target = np.array([[200,1/3,1/3]]) \n",
    "\n",
    "# define function that calculates several objectives at the same time (for speed):\n",
    "def spd_to_cris(spd):\n",
    "    Rf,Rg = lx.cri.spd_to_cri(spd, cri_type='ies-tm30',out='Rf,Rg')\n",
    "    return Rf[0,0], Rg[0,0]   \n",
    "\n",
    "# start optimization:\n",
    "obj_fcn = [(spd_to_cris,'Rf','Rg')]\n",
    "obj_tar_vals = [(90,110)]\n",
    "S, prims, M = spb.spd_optimizer2(target, tar_type = 'Yxy', cspace_bwtf = {},\n",
    "                                  n = n, wlr = [360,830,1], prims = None,\n",
    "                                  cieobs = cieobs, out = 'spds,primss,Ms', \n",
    "                                  prim_constructor = spb.gaussian_prim_constructor,\n",
    "                                  prim_constructor_parameter_types = ['peakwl', 'fwhm'], \n",
    "                                  prim_constructor_parameter_defs = {'peakwl_bnds':[400,700],\n",
    "                                                                     'fwhm_bnds':[5,100]},\n",
    "                                  obj_fcn = obj_fcn, obj_fcn_pars = [{}], \n",
    "                                  obj_fcn_weights = [(1,1)], obj_tar_vals = obj_tar_vals,\n",
    "                                  triangle_strengths_bnds = None,\n",
    "                                  minimize_method = 'particleswarm',\n",
    "                                  minimize_opts = None,\n",
    "                                  user_minimization_method_args = {},\n",
    "                                  verbosity = 0)\n",
    "\n",
    "# Check output agrees with target:\n",
    "xyz = lx.spd_to_xyz(S, relative = False, cieobs = cieobs)\n",
    "Yxy = lx.xyz_to_Yxy(xyz)\n",
    "cct,duv = lx.xyz_to_cct(xyz, cieobs = cieobs, mode = 'search',out = 'cct,duv')\n",
    "Rf, Rg = obj_fcn[0][0](S)\n",
    "print('\\nResults (optim,target):')\n",
    "print(\"Yxy: ([{:1.0f},{:1.2f},{:1.2f}],[{:1.0f},{:1.2f},{:1.2f}])\".format(Yxy[0,0],Yxy[0,1],Yxy[0,2],target[0,0],target[0,1],target[0,2]))\n",
    "print(\"Rf: ({:1.2f},{:1.2f})\".format(Rf, obj_tar_vals[0][0]))\n",
    "print(\"Rg: ({:1.2f}, {:1.2f})\".format(Rg, obj_tar_vals[0][1]))\n",
    "print(\"cct(K), duv: ({:1.1f},{:1.4f})\".format(cct[0,0], duv[0,0]))\n",
    "\n",
    "print('\\nFlux ratios of component spectra:', M)\n",
    "\n",
    "#plot spd:\n",
    "plt.figure()\n",
    "lx.SPD(S).plot()"
   ]
  },
  {
   "cell_type": "code",
   "execution_count": 9,
   "metadata": {},
   "outputs": [
    {
     "name": "stdout",
     "output_type": "stream",
     "text": [
      "\n",
      "Results (optim,target):\n",
      "Yxy: ([200,0.33,0.33],[200,0.33,0.33])\n",
      "Rf: (89.75,90.00)\n",
      "Rg: (109.48, 110.00)\n",
      "cct(K), duv: (5482.1,-0.0041)\n",
      "\n",
      "Flux ratios of component spectra: [2.6839e-03 9.1139e-04 4.2233e-03 1.8513e-03]\n"
     ]
    },
    {
     "data": {
      "text/plain": [
       "<matplotlib.axes._subplots.AxesSubplot at 0x164a601ae10>"
      ]
     },
     "execution_count": 9,
     "metadata": {},
     "output_type": "execute_result"
    },
    {
     "data": {
      "image/png": "[encoded data removed]",
      "text/plain": [
       "<Figure size 432x288 with 1 Axes>"
      ]
     },
     "metadata": {
      "needs_background": "light"
     },
     "output_type": "display_data"
    }
   ],
   "source": [
    "\n",
    "# Check output agrees with target:\n",
    "xyz = lx.spd_to_xyz(S, relative = False, cieobs = cieobs)\n",
    "Yxy = lx.xyz_to_Yxy(xyz)\n",
    "cct,duv = lx.xyz_to_cct(xyz, cieobs = cieobs, mode = 'search',out = 'cct,duv')\n",
    "Rf, Rg = obj_fcn[0][0](S)\n",
    "print('\\nResults (optim,target):')\n",
    "print(\"Yxy: ([{:1.0f},{:1.2f},{:1.2f}],[{:1.0f},{:1.2f},{:1.2f}])\".format(Yxy[0,0],Yxy[0,1],Yxy[0,2],target[0,0],target[0,1],target[0,2]))\n",
    "print(\"Rf: ({:1.2f},{:1.2f})\".format(Rf, obj_tar_vals[0][0]))\n",
    "print(\"Rg: ({:1.2f}, {:1.2f})\".format(Rg, obj_tar_vals[0][1]))\n",
    "print(\"cct(K), duv: ({:1.1f},{:1.4f})\".format(cct[0,0], duv[0,0]))\n",
    "\n",
    "print('\\nFlux ratios of component spectra:', M)\n",
    "\n",
    "#plot spd:\n",
    "plt.figure()\n",
    "lx.SPD(S).plot()"
   ]
  },
  {
   "cell_type": "code",
   "execution_count": 5,
   "metadata": {},
   "outputs": [
    {
     "data": {
      "text/plain": [
       "89.74737995599206"
      ]
     },
     "execution_count": 5,
     "metadata": {},
     "output_type": "execute_result"
    }
   ],
   "source": [
    "Rf"
   ]
  },
  {
   "cell_type": "code",
   "execution_count": 6,
   "metadata": {},
   "outputs": [
    {
     "data": {
      "text/plain": [
       "array([[5.4821e+03]])"
      ]
     },
     "execution_count": 6,
     "metadata": {},
     "output_type": "execute_result"
    }
   ],
   "source": [
    "cct"
   ]
  },
  {
   "cell_type": "code",
   "execution_count": 7,
   "metadata": {},
   "outputs": [
    {
     "data": {
      "text/plain": [
       "array([[2.0000e+02, 3.3333e-01, 3.3333e-01]])"
      ]
     },
     "execution_count": 7,
     "metadata": {},
     "output_type": "execute_result"
    }
   ],
   "source": [
    "Yxy"
   ]
  },
  {
   "cell_type": "code",
   "execution_count": null,
   "metadata": {},
   "outputs": [],
   "source": []
  }
 ],
 "metadata": {
  "@webio": {
   "lastCommId": null,
   "lastKernelId": null
  },
  "kernelspec": {
   "display_name": "Python 3",
   "language": "python",
   "name": "python3"
  },
  "language_info": {
   "codemirror_mode": {
    "name": "ipython",
    "version": 3
   },
   "file_extension": ".py",
   "mimetype": "text/x-python",
   "name": "python",
   "nbconvert_exporter": "python",
   "pygments_lexer": "ipython3",
   "version": "3.6.7"
  }
 },
 "nbformat": 4,
 "nbformat_minor": 2
}
